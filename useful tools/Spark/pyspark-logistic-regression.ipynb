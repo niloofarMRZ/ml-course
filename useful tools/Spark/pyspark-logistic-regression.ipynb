{
 "cells": [
  {
   "cell_type": "code",
   "execution_count": 1,
   "metadata": {
    "execution": {
     "iopub.execute_input": "2023-01-31T08:26:59.598364Z",
     "iopub.status.busy": "2023-01-31T08:26:59.597017Z",
     "iopub.status.idle": "2023-01-31T08:27:52.992004Z",
     "shell.execute_reply": "2023-01-31T08:27:52.990841Z",
     "shell.execute_reply.started": "2023-01-31T08:26:59.598249Z"
    },
    "id": "H7AjAScPE79r",
    "outputId": "f02f79e1-541b-41fa-caed-55e028a5ce3a"
   },
   "outputs": [
    {
     "name": "stdout",
     "output_type": "stream",
     "text": [
      "Collecting pyspark\n",
      "  Downloading pyspark-3.5.1.tar.gz (317.0 MB)\n",
      "\u001b[2K     \u001b[90m━━━━━━━━━━━━━━━━━━━━━━━━━━━━━━━━━━━━━━━\u001b[0m \u001b[32m317.0/317.0 MB\u001b[0m \u001b[31m1.1 MB/s\u001b[0m eta \u001b[36m0:00:00\u001b[0m00:01\u001b[0m00:08\u001b[0m\n",
      "\u001b[?25h  Preparing metadata (setup.py) ... \u001b[?25ldone\n",
      "\u001b[33mWARNING: Retrying (Retry(total=4, connect=None, read=None, redirect=None, status=None)) after connection broken by 'ReadTimeoutError(\"HTTPSConnectionPool(host='pypi.org', port=443): Read timed out. (read timeout=15)\")': /simple/py4j/\u001b[0m\u001b[33m\n",
      "\u001b[0m\u001b[?25hCollecting py4j==0.10.9.7 (from pyspark)\n",
      "  Downloading py4j-0.10.9.7-py2.py3-none-any.whl.metadata (1.5 kB)\n",
      "Downloading py4j-0.10.9.7-py2.py3-none-any.whl (200 kB)\n",
      "\u001b[2K   \u001b[90m━━━━━━━━━━━━━━━━━━━━━━━━━━━━━━━━━━━━━━━━\u001b[0m \u001b[32m200.5/200.5 kB\u001b[0m \u001b[31m1.1 MB/s\u001b[0m eta \u001b[36m0:00:00\u001b[0ma \u001b[36m0:00:01\u001b[0mm\n",
      "\u001b[?25hBuilding wheels for collected packages: pyspark\n",
      "  Building wheel for pyspark (setup.py) ... \u001b[?25ldone\n",
      "\u001b[?25h  Created wheel for pyspark: filename=pyspark-3.5.1-py2.py3-none-any.whl size=317488491 sha256=81192f99977b0368e8e702719f0b17c09806d8a7e83875b2d6247541f60f4616\n",
      "  Stored in directory: /Users/jabama/Library/Caches/pip/wheels/95/13/41/f7f135ee114175605fb4f0a89e7389f3742aa6c1e1a5bcb657\n",
      "Successfully built pyspark\n",
      "Installing collected packages: py4j, pyspark\n",
      "Successfully installed py4j-0.10.9.7 pyspark-3.5.1\n"
     ]
    }
   ],
   "source": [
    "!pip install pyspark"
   ]
  },
  {
   "cell_type": "code",
   "execution_count": 2,
   "metadata": {
    "execution": {
     "iopub.execute_input": "2023-01-31T08:33:47.433457Z",
     "iopub.status.busy": "2023-01-31T08:33:47.432749Z",
     "iopub.status.idle": "2023-01-31T08:33:47.530967Z",
     "shell.execute_reply": "2023-01-31T08:33:47.529818Z",
     "shell.execute_reply.started": "2023-01-31T08:33:47.433353Z"
    },
    "id": "jcnTLC83FIN6"
   },
   "outputs": [],
   "source": [
    "from pyspark.sql import SparkSession"
   ]
  },
  {
   "cell_type": "code",
   "execution_count": 4,
   "metadata": {},
   "outputs": [
    {
     "name": "stdout",
     "output_type": "stream",
     "text": [
      "Password:\n",
      "sudo: a password is required\n"
     ]
    }
   ],
   "source": [
    "!sudo add-apt-repository ppa:webupd8team/java\n"
   ]
  },
  {
   "cell_type": "code",
   "execution_count": null,
   "metadata": {},
   "outputs": [],
   "source": []
  },
  {
   "cell_type": "code",
   "execution_count": 3,
   "metadata": {
    "execution": {
     "iopub.execute_input": "2023-01-31T08:33:50.651230Z",
     "iopub.status.busy": "2023-01-31T08:33:50.650760Z",
     "iopub.status.idle": "2023-01-31T08:33:56.445981Z",
     "shell.execute_reply": "2023-01-31T08:33:56.444271Z",
     "shell.execute_reply.started": "2023-01-31T08:33:50.651197Z"
    },
    "id": "vD_CAjQ7FQkm"
   },
   "outputs": [
    {
     "name": "stderr",
     "output_type": "stream",
     "text": [
      "The operation couldn’t be completed. Unable to locate a Java Runtime.\n",
      "Please visit http://www.java.com for information on installing Java.\n",
      "\n",
      "/opt/anaconda3/lib/python3.11/site-packages/pyspark/bin/spark-class: line 97: CMD: bad array subscript\n",
      "head: illegal line count -- -1\n"
     ]
    },
    {
     "ename": "PySparkRuntimeError",
     "evalue": "[JAVA_GATEWAY_EXITED] Java gateway process exited before sending its port number.",
     "output_type": "error",
     "traceback": [
      "\u001b[0;31m---------------------------------------------------------------------------\u001b[0m",
      "\u001b[0;31mPySparkRuntimeError\u001b[0m                       Traceback (most recent call last)",
      "Cell \u001b[0;32mIn[3], line 1\u001b[0m\n\u001b[0;32m----> 1\u001b[0m spark \u001b[38;5;241m=\u001b[39m SparkSession\u001b[38;5;241m.\u001b[39mbuilder\u001b[38;5;241m.\u001b[39mappName(\u001b[38;5;124m\"\u001b[39m\u001b[38;5;124mchurn_pred\u001b[39m\u001b[38;5;124m\"\u001b[39m)\u001b[38;5;241m.\u001b[39mgetOrCreate()\n",
      "File \u001b[0;32m/opt/anaconda3/lib/python3.11/site-packages/pyspark/sql/session.py:497\u001b[0m, in \u001b[0;36mSparkSession.Builder.getOrCreate\u001b[0;34m(self)\u001b[0m\n\u001b[1;32m    495\u001b[0m     sparkConf\u001b[38;5;241m.\u001b[39mset(key, value)\n\u001b[1;32m    496\u001b[0m \u001b[38;5;66;03m# This SparkContext may be an existing one.\u001b[39;00m\n\u001b[0;32m--> 497\u001b[0m sc \u001b[38;5;241m=\u001b[39m SparkContext\u001b[38;5;241m.\u001b[39mgetOrCreate(sparkConf)\n\u001b[1;32m    498\u001b[0m \u001b[38;5;66;03m# Do not update `SparkConf` for existing `SparkContext`, as it's shared\u001b[39;00m\n\u001b[1;32m    499\u001b[0m \u001b[38;5;66;03m# by all sessions.\u001b[39;00m\n\u001b[1;32m    500\u001b[0m session \u001b[38;5;241m=\u001b[39m SparkSession(sc, options\u001b[38;5;241m=\u001b[39m\u001b[38;5;28mself\u001b[39m\u001b[38;5;241m.\u001b[39m_options)\n",
      "File \u001b[0;32m/opt/anaconda3/lib/python3.11/site-packages/pyspark/context.py:515\u001b[0m, in \u001b[0;36mSparkContext.getOrCreate\u001b[0;34m(cls, conf)\u001b[0m\n\u001b[1;32m    513\u001b[0m \u001b[38;5;28;01mwith\u001b[39;00m SparkContext\u001b[38;5;241m.\u001b[39m_lock:\n\u001b[1;32m    514\u001b[0m     \u001b[38;5;28;01mif\u001b[39;00m SparkContext\u001b[38;5;241m.\u001b[39m_active_spark_context \u001b[38;5;129;01mis\u001b[39;00m \u001b[38;5;28;01mNone\u001b[39;00m:\n\u001b[0;32m--> 515\u001b[0m         SparkContext(conf\u001b[38;5;241m=\u001b[39mconf \u001b[38;5;129;01mor\u001b[39;00m SparkConf())\n\u001b[1;32m    516\u001b[0m     \u001b[38;5;28;01massert\u001b[39;00m SparkContext\u001b[38;5;241m.\u001b[39m_active_spark_context \u001b[38;5;129;01mis\u001b[39;00m \u001b[38;5;129;01mnot\u001b[39;00m \u001b[38;5;28;01mNone\u001b[39;00m\n\u001b[1;32m    517\u001b[0m     \u001b[38;5;28;01mreturn\u001b[39;00m SparkContext\u001b[38;5;241m.\u001b[39m_active_spark_context\n",
      "File \u001b[0;32m/opt/anaconda3/lib/python3.11/site-packages/pyspark/context.py:201\u001b[0m, in \u001b[0;36mSparkContext.__init__\u001b[0;34m(self, master, appName, sparkHome, pyFiles, environment, batchSize, serializer, conf, gateway, jsc, profiler_cls, udf_profiler_cls, memory_profiler_cls)\u001b[0m\n\u001b[1;32m    195\u001b[0m \u001b[38;5;28;01mif\u001b[39;00m gateway \u001b[38;5;129;01mis\u001b[39;00m \u001b[38;5;129;01mnot\u001b[39;00m \u001b[38;5;28;01mNone\u001b[39;00m \u001b[38;5;129;01mand\u001b[39;00m gateway\u001b[38;5;241m.\u001b[39mgateway_parameters\u001b[38;5;241m.\u001b[39mauth_token \u001b[38;5;129;01mis\u001b[39;00m \u001b[38;5;28;01mNone\u001b[39;00m:\n\u001b[1;32m    196\u001b[0m     \u001b[38;5;28;01mraise\u001b[39;00m \u001b[38;5;167;01mValueError\u001b[39;00m(\n\u001b[1;32m    197\u001b[0m         \u001b[38;5;124m\"\u001b[39m\u001b[38;5;124mYou are trying to pass an insecure Py4j gateway to Spark. This\u001b[39m\u001b[38;5;124m\"\u001b[39m\n\u001b[1;32m    198\u001b[0m         \u001b[38;5;124m\"\u001b[39m\u001b[38;5;124m is not allowed as it is a security risk.\u001b[39m\u001b[38;5;124m\"\u001b[39m\n\u001b[1;32m    199\u001b[0m     )\n\u001b[0;32m--> 201\u001b[0m SparkContext\u001b[38;5;241m.\u001b[39m_ensure_initialized(\u001b[38;5;28mself\u001b[39m, gateway\u001b[38;5;241m=\u001b[39mgateway, conf\u001b[38;5;241m=\u001b[39mconf)\n\u001b[1;32m    202\u001b[0m \u001b[38;5;28;01mtry\u001b[39;00m:\n\u001b[1;32m    203\u001b[0m     \u001b[38;5;28mself\u001b[39m\u001b[38;5;241m.\u001b[39m_do_init(\n\u001b[1;32m    204\u001b[0m         master,\n\u001b[1;32m    205\u001b[0m         appName,\n\u001b[0;32m   (...)\u001b[0m\n\u001b[1;32m    215\u001b[0m         memory_profiler_cls,\n\u001b[1;32m    216\u001b[0m     )\n",
      "File \u001b[0;32m/opt/anaconda3/lib/python3.11/site-packages/pyspark/context.py:436\u001b[0m, in \u001b[0;36mSparkContext._ensure_initialized\u001b[0;34m(cls, instance, gateway, conf)\u001b[0m\n\u001b[1;32m    434\u001b[0m \u001b[38;5;28;01mwith\u001b[39;00m SparkContext\u001b[38;5;241m.\u001b[39m_lock:\n\u001b[1;32m    435\u001b[0m     \u001b[38;5;28;01mif\u001b[39;00m \u001b[38;5;129;01mnot\u001b[39;00m SparkContext\u001b[38;5;241m.\u001b[39m_gateway:\n\u001b[0;32m--> 436\u001b[0m         SparkContext\u001b[38;5;241m.\u001b[39m_gateway \u001b[38;5;241m=\u001b[39m gateway \u001b[38;5;129;01mor\u001b[39;00m launch_gateway(conf)\n\u001b[1;32m    437\u001b[0m         SparkContext\u001b[38;5;241m.\u001b[39m_jvm \u001b[38;5;241m=\u001b[39m SparkContext\u001b[38;5;241m.\u001b[39m_gateway\u001b[38;5;241m.\u001b[39mjvm\n\u001b[1;32m    439\u001b[0m     \u001b[38;5;28;01mif\u001b[39;00m instance:\n",
      "File \u001b[0;32m/opt/anaconda3/lib/python3.11/site-packages/pyspark/java_gateway.py:107\u001b[0m, in \u001b[0;36mlaunch_gateway\u001b[0;34m(conf, popen_kwargs)\u001b[0m\n\u001b[1;32m    104\u001b[0m     time\u001b[38;5;241m.\u001b[39msleep(\u001b[38;5;241m0.1\u001b[39m)\n\u001b[1;32m    106\u001b[0m \u001b[38;5;28;01mif\u001b[39;00m \u001b[38;5;129;01mnot\u001b[39;00m os\u001b[38;5;241m.\u001b[39mpath\u001b[38;5;241m.\u001b[39misfile(conn_info_file):\n\u001b[0;32m--> 107\u001b[0m     \u001b[38;5;28;01mraise\u001b[39;00m PySparkRuntimeError(\n\u001b[1;32m    108\u001b[0m         error_class\u001b[38;5;241m=\u001b[39m\u001b[38;5;124m\"\u001b[39m\u001b[38;5;124mJAVA_GATEWAY_EXITED\u001b[39m\u001b[38;5;124m\"\u001b[39m,\n\u001b[1;32m    109\u001b[0m         message_parameters\u001b[38;5;241m=\u001b[39m{},\n\u001b[1;32m    110\u001b[0m     )\n\u001b[1;32m    112\u001b[0m \u001b[38;5;28;01mwith\u001b[39;00m \u001b[38;5;28mopen\u001b[39m(conn_info_file, \u001b[38;5;124m\"\u001b[39m\u001b[38;5;124mrb\u001b[39m\u001b[38;5;124m\"\u001b[39m) \u001b[38;5;28;01mas\u001b[39;00m info:\n\u001b[1;32m    113\u001b[0m     gateway_port \u001b[38;5;241m=\u001b[39m read_int(info)\n",
      "\u001b[0;31mPySparkRuntimeError\u001b[0m: [JAVA_GATEWAY_EXITED] Java gateway process exited before sending its port number."
     ]
    }
   ],
   "source": [
    "spark = SparkSession.builder.appName(\"churn_pred\").getOrCreate()"
   ]
  },
  {
   "cell_type": "code",
   "execution_count": 4,
   "metadata": {
    "execution": {
     "iopub.execute_input": "2023-01-31T08:34:01.052772Z",
     "iopub.status.busy": "2023-01-31T08:34:01.052304Z",
     "iopub.status.idle": "2023-01-31T08:34:07.895398Z",
     "shell.execute_reply": "2023-01-31T08:34:07.894481Z",
     "shell.execute_reply.started": "2023-01-31T08:34:01.052733Z"
    },
    "id": "cGRzer8kGCJA"
   },
   "outputs": [],
   "source": [
    "df = spark.read.csv(\"../input/generalassemblywelcome5k/customer_churn.csv\",header=True , inferSchema=True)"
   ]
  },
  {
   "cell_type": "code",
   "execution_count": 5,
   "metadata": {
    "execution": {
     "iopub.execute_input": "2023-01-31T08:34:57.282249Z",
     "iopub.status.busy": "2023-01-31T08:34:57.281669Z",
     "iopub.status.idle": "2023-01-31T08:34:57.303574Z",
     "shell.execute_reply": "2023-01-31T08:34:57.302051Z",
     "shell.execute_reply.started": "2023-01-31T08:34:57.282207Z"
    },
    "id": "f4BP2aRhGWuR",
    "outputId": "0df6187e-52ef-481d-a11b-f86b156e38a7"
   },
   "outputs": [
    {
     "name": "stdout",
     "output_type": "stream",
     "text": [
      "root\n",
      " |-- Names: string (nullable = true)\n",
      " |-- Age: double (nullable = true)\n",
      " |-- Total_Purchase: double (nullable = true)\n",
      " |-- Account_Manager: integer (nullable = true)\n",
      " |-- Years: double (nullable = true)\n",
      " |-- Num_Sites: double (nullable = true)\n",
      " |-- Onboard_date: timestamp (nullable = true)\n",
      " |-- Location: string (nullable = true)\n",
      " |-- Company: string (nullable = true)\n",
      " |-- Churn: integer (nullable = true)\n",
      "\n"
     ]
    }
   ],
   "source": [
    "df.printSchema()"
   ]
  },
  {
   "cell_type": "code",
   "execution_count": 6,
   "metadata": {
    "execution": {
     "iopub.execute_input": "2023-01-31T08:35:00.352761Z",
     "iopub.status.busy": "2023-01-31T08:35:00.352180Z",
     "iopub.status.idle": "2023-01-31T08:35:03.287167Z",
     "shell.execute_reply": "2023-01-31T08:35:03.285949Z",
     "shell.execute_reply.started": "2023-01-31T08:35:00.352713Z"
    },
    "id": "wo5LU0UCGdMF",
    "outputId": "c08b8a21-d150-46bd-e6c1-6090498a3f27"
   },
   "outputs": [
    {
     "name": "stderr",
     "output_type": "stream",
     "text": [
      "                                                                                \r"
     ]
    },
    {
     "name": "stdout",
     "output_type": "stream",
     "text": [
      "+-------+-------------+-----------------+-----------------+------------------+-----------------+------------------+--------------------+--------------------+-------------------+\n",
      "|summary|        Names|              Age|   Total_Purchase|   Account_Manager|            Years|         Num_Sites|            Location|             Company|              Churn|\n",
      "+-------+-------------+-----------------+-----------------+------------------+-----------------+------------------+--------------------+--------------------+-------------------+\n",
      "|  count|          900|              900|              900|               900|              900|               900|                 900|                 900|                900|\n",
      "|   mean|         null|41.81666666666667|10062.82403333334|0.4811111111111111| 5.27315555555555| 8.587777777777777|                null|                null|0.16666666666666666|\n",
      "| stddev|         null|6.127560416916251|2408.644531858096|0.4999208935073339|1.274449013194616|1.7648355920350969|                null|                null| 0.3728852122772358|\n",
      "|    min|   Aaron King|             22.0|            100.0|                 0|              1.0|               3.0|00103 Jeffrey Cre...|     Abbott-Thompson|                  0|\n",
      "|    max|Zachary Walsh|             65.0|         18026.01|                 1|             9.15|              14.0|Unit 9800 Box 287...|Zuniga, Clark and...|                  1|\n",
      "+-------+-------------+-----------------+-----------------+------------------+-----------------+------------------+--------------------+--------------------+-------------------+\n",
      "\n"
     ]
    }
   ],
   "source": [
    "df.describe().show()"
   ]
  },
  {
   "cell_type": "code",
   "execution_count": 7,
   "metadata": {
    "execution": {
     "iopub.execute_input": "2023-01-31T08:42:12.114726Z",
     "iopub.status.busy": "2023-01-31T08:42:12.114151Z",
     "iopub.status.idle": "2023-01-31T08:42:12.154594Z",
     "shell.execute_reply": "2023-01-31T08:42:12.153203Z",
     "shell.execute_reply.started": "2023-01-31T08:42:12.114677Z"
    },
    "id": "NEkeRqzkGldc",
    "outputId": "c46e7500-0693-4578-8a3a-e18b56477ef7"
   },
   "outputs": [
    {
     "data": {
      "text/plain": [
       "['Names',\n",
       " 'Age',\n",
       " 'Total_Purchase',\n",
       " 'Account_Manager',\n",
       " 'Years',\n",
       " 'Num_Sites',\n",
       " 'Onboard_date',\n",
       " 'Location',\n",
       " 'Company',\n",
       " 'Churn']"
      ]
     },
     "execution_count": 7,
     "metadata": {},
     "output_type": "execute_result"
    }
   ],
   "source": [
    "df.columns"
   ]
  },
  {
   "cell_type": "code",
   "execution_count": 8,
   "metadata": {
    "execution": {
     "iopub.execute_input": "2023-01-31T08:42:26.962580Z",
     "iopub.status.busy": "2023-01-31T08:42:26.962068Z",
     "iopub.status.idle": "2023-01-31T08:42:26.972208Z",
     "shell.execute_reply": "2023-01-31T08:42:26.970735Z",
     "shell.execute_reply.started": "2023-01-31T08:42:26.962540Z"
    },
    "id": "rNFTk7I5GzpC",
    "outputId": "25048131-820c-4dcc-8cb1-4a961d574de3"
   },
   "outputs": [
    {
     "data": {
      "text/plain": [
       "[('Names', 'string'),\n",
       " ('Age', 'double'),\n",
       " ('Total_Purchase', 'double'),\n",
       " ('Account_Manager', 'int'),\n",
       " ('Years', 'double'),\n",
       " ('Num_Sites', 'double'),\n",
       " ('Onboard_date', 'timestamp'),\n",
       " ('Location', 'string'),\n",
       " ('Company', 'string'),\n",
       " ('Churn', 'int')]"
      ]
     },
     "execution_count": 8,
     "metadata": {},
     "output_type": "execute_result"
    }
   ],
   "source": [
    "df.dtypes"
   ]
  },
  {
   "cell_type": "code",
   "execution_count": 9,
   "metadata": {
    "execution": {
     "iopub.execute_input": "2023-01-31T08:42:37.597331Z",
     "iopub.status.busy": "2023-01-31T08:42:37.596861Z",
     "iopub.status.idle": "2023-01-31T08:42:37.708699Z",
     "shell.execute_reply": "2023-01-31T08:42:37.707343Z",
     "shell.execute_reply.started": "2023-01-31T08:42:37.597298Z"
    },
    "id": "kUxlyAqqG25V"
   },
   "outputs": [],
   "source": [
    "from pyspark.ml.feature import VectorAssembler"
   ]
  },
  {
   "cell_type": "code",
   "execution_count": 12,
   "metadata": {
    "execution": {
     "iopub.execute_input": "2023-01-31T08:43:37.763955Z",
     "iopub.status.busy": "2023-01-31T08:43:37.763505Z",
     "iopub.status.idle": "2023-01-31T08:43:37.775267Z",
     "shell.execute_reply": "2023-01-31T08:43:37.774309Z",
     "shell.execute_reply.started": "2023-01-31T08:43:37.763923Z"
    },
    "id": "D4zsQiZxHH6l"
   },
   "outputs": [],
   "source": [
    "assembler = VectorAssembler(inputCols=[\n",
    "#  'Names',\n",
    " 'Age',\n",
    " 'Total_Purchase',\n",
    " 'Account_Manager',\n",
    " 'Years',\n",
    " 'Num_Sites',\n",
    "#  'Onboard_date',\n",
    "#  'Location',\n",
    "#  'Company',\n",
    "#  'Churn'\n",
    " ],\n",
    " outputCol=\"features\")"
   ]
  },
  {
   "cell_type": "code",
   "execution_count": 13,
   "metadata": {
    "execution": {
     "iopub.execute_input": "2023-01-31T08:43:39.011004Z",
     "iopub.status.busy": "2023-01-31T08:43:39.009874Z",
     "iopub.status.idle": "2023-01-31T08:43:39.196831Z",
     "shell.execute_reply": "2023-01-31T08:43:39.195258Z",
     "shell.execute_reply.started": "2023-01-31T08:43:39.010961Z"
    },
    "id": "B_L2DA_BHYWm"
   },
   "outputs": [],
   "source": [
    "output = assembler.transform(df)"
   ]
  },
  {
   "cell_type": "code",
   "execution_count": 14,
   "metadata": {
    "execution": {
     "iopub.execute_input": "2023-01-31T08:44:04.380282Z",
     "iopub.status.busy": "2023-01-31T08:44:04.379821Z",
     "iopub.status.idle": "2023-01-31T08:44:04.408963Z",
     "shell.execute_reply": "2023-01-31T08:44:04.407723Z",
     "shell.execute_reply.started": "2023-01-31T08:44:04.380244Z"
    },
    "id": "oI4BY9UcIvIr"
   },
   "outputs": [],
   "source": [
    "df_final = output.select(\"features\",\"churn\")"
   ]
  },
  {
   "cell_type": "code",
   "execution_count": 15,
   "metadata": {
    "execution": {
     "iopub.execute_input": "2023-01-31T08:44:05.033349Z",
     "iopub.status.busy": "2023-01-31T08:44:05.032829Z",
     "iopub.status.idle": "2023-01-31T08:44:05.678409Z",
     "shell.execute_reply": "2023-01-31T08:44:05.676810Z",
     "shell.execute_reply.started": "2023-01-31T08:44:05.033311Z"
    },
    "id": "X2Jc4iVKJBhb",
    "outputId": "e749bb10-8218-42d7-8a51-350fe2b108e3"
   },
   "outputs": [
    {
     "name": "stdout",
     "output_type": "stream",
     "text": [
      "+--------------------+-----+\n",
      "|            features|churn|\n",
      "+--------------------+-----+\n",
      "|[42.0,11066.8,0.0...|    1|\n",
      "|[41.0,11916.22,0....|    1|\n",
      "|[38.0,12884.75,0....|    1|\n",
      "|[42.0,8010.76,0.0...|    1|\n",
      "|[37.0,9191.58,0.0...|    1|\n",
      "|[48.0,10356.02,0....|    1|\n",
      "|[44.0,11331.58,1....|    1|\n",
      "|[32.0,9885.12,1.0...|    1|\n",
      "|[43.0,14062.6,1.0...|    1|\n",
      "|[40.0,8066.94,1.0...|    1|\n",
      "|[30.0,11575.37,1....|    1|\n",
      "|[45.0,8771.02,1.0...|    1|\n",
      "|[45.0,8988.67,1.0...|    1|\n",
      "|[40.0,8283.32,1.0...|    1|\n",
      "|[41.0,6569.87,1.0...|    1|\n",
      "|[38.0,10494.82,1....|    1|\n",
      "|[45.0,8213.41,1.0...|    1|\n",
      "|[43.0,11226.88,0....|    1|\n",
      "|[53.0,5515.09,0.0...|    1|\n",
      "|[46.0,8046.4,1.0,...|    1|\n",
      "+--------------------+-----+\n",
      "only showing top 20 rows\n",
      "\n"
     ]
    }
   ],
   "source": [
    "df_final.show()"
   ]
  },
  {
   "cell_type": "code",
   "execution_count": 16,
   "metadata": {
    "execution": {
     "iopub.execute_input": "2023-01-31T08:44:13.781767Z",
     "iopub.status.busy": "2023-01-31T08:44:13.781227Z",
     "iopub.status.idle": "2023-01-31T08:44:13.813835Z",
     "shell.execute_reply": "2023-01-31T08:44:13.812577Z",
     "shell.execute_reply.started": "2023-01-31T08:44:13.781731Z"
    },
    "id": "0fCSUlFYJCvo"
   },
   "outputs": [],
   "source": [
    "train , test = df_final.randomSplit([0.8,0.2])"
   ]
  },
  {
   "cell_type": "code",
   "execution_count": 17,
   "metadata": {
    "execution": {
     "iopub.execute_input": "2023-01-31T08:44:14.359862Z",
     "iopub.status.busy": "2023-01-31T08:44:14.358803Z",
     "iopub.status.idle": "2023-01-31T08:44:14.364083Z",
     "shell.execute_reply": "2023-01-31T08:44:14.362970Z",
     "shell.execute_reply.started": "2023-01-31T08:44:14.359825Z"
    },
    "id": "-ATaxfZUJO9v"
   },
   "outputs": [],
   "source": [
    "from pyspark.ml.classification import LogisticRegression"
   ]
  },
  {
   "cell_type": "code",
   "execution_count": 18,
   "metadata": {
    "execution": {
     "iopub.execute_input": "2023-01-31T08:44:14.911418Z",
     "iopub.status.busy": "2023-01-31T08:44:14.910962Z",
     "iopub.status.idle": "2023-01-31T08:44:14.974354Z",
     "shell.execute_reply": "2023-01-31T08:44:14.973065Z",
     "shell.execute_reply.started": "2023-01-31T08:44:14.911366Z"
    },
    "id": "ulxNDuTlJStL"
   },
   "outputs": [],
   "source": [
    "lr = LogisticRegression(labelCol=\"churn\")"
   ]
  },
  {
   "cell_type": "code",
   "execution_count": 19,
   "metadata": {
    "execution": {
     "iopub.execute_input": "2023-01-31T08:44:15.488174Z",
     "iopub.status.busy": "2023-01-31T08:44:15.487345Z",
     "iopub.status.idle": "2023-01-31T08:44:18.348495Z",
     "shell.execute_reply": "2023-01-31T08:44:18.347011Z",
     "shell.execute_reply.started": "2023-01-31T08:44:15.488136Z"
    },
    "id": "A9q-ool2Jhae"
   },
   "outputs": [],
   "source": [
    "lrm = lr.fit(train)"
   ]
  },
  {
   "cell_type": "code",
   "execution_count": 20,
   "metadata": {
    "execution": {
     "iopub.execute_input": "2023-01-31T08:44:18.351784Z",
     "iopub.status.busy": "2023-01-31T08:44:18.350629Z",
     "iopub.status.idle": "2023-01-31T08:44:18.373682Z",
     "shell.execute_reply": "2023-01-31T08:44:18.372055Z",
     "shell.execute_reply.started": "2023-01-31T08:44:18.351737Z"
    },
    "id": "96ws_aOZJmKd",
    "outputId": "3e1de90e-f97b-4504-fb1d-ab4efd0b648e"
   },
   "outputs": [
    {
     "data": {
      "text/plain": [
       "<pyspark.ml.classification.BinaryLogisticRegressionTrainingSummary at 0x7ff09887d850>"
      ]
     },
     "execution_count": 20,
     "metadata": {},
     "output_type": "execute_result"
    }
   ],
   "source": [
    "lrm.summary"
   ]
  },
  {
   "cell_type": "code",
   "execution_count": 21,
   "metadata": {
    "execution": {
     "iopub.execute_input": "2023-01-31T08:44:18.377035Z",
     "iopub.status.busy": "2023-01-31T08:44:18.376164Z",
     "iopub.status.idle": "2023-01-31T08:44:18.816649Z",
     "shell.execute_reply": "2023-01-31T08:44:18.815435Z",
     "shell.execute_reply.started": "2023-01-31T08:44:18.376988Z"
    },
    "id": "sguj4R6IJo3-",
    "outputId": "3e29816a-f0f5-4a20-ca6c-e38b6bd9cd20"
   },
   "outputs": [
    {
     "data": {
      "text/plain": [
       "0.8908839779005525"
      ]
     },
     "execution_count": 21,
     "metadata": {},
     "output_type": "execute_result"
    }
   ],
   "source": [
    "lrm.summary.accuracy"
   ]
  },
  {
   "cell_type": "code",
   "execution_count": 22,
   "metadata": {
    "execution": {
     "iopub.execute_input": "2023-01-31T08:44:18.820413Z",
     "iopub.status.busy": "2023-01-31T08:44:18.819801Z",
     "iopub.status.idle": "2023-01-31T08:44:19.599053Z",
     "shell.execute_reply": "2023-01-31T08:44:19.597674Z",
     "shell.execute_reply.started": "2023-01-31T08:44:18.820364Z"
    },
    "id": "a01Qery6J1X_",
    "outputId": "62e22525-b028-4769-f345-4ab4689510c9"
   },
   "outputs": [
    {
     "data": {
      "text/plain": [
       "0.8985346204597507"
      ]
     },
     "execution_count": 22,
     "metadata": {},
     "output_type": "execute_result"
    }
   ],
   "source": [
    "lrm.summary.areaUnderROC"
   ]
  },
  {
   "cell_type": "code",
   "execution_count": 23,
   "metadata": {
    "execution": {
     "iopub.execute_input": "2023-01-31T08:44:19.600886Z",
     "iopub.status.busy": "2023-01-31T08:44:19.600421Z",
     "iopub.status.idle": "2023-01-31T08:44:19.886575Z",
     "shell.execute_reply": "2023-01-31T08:44:19.885276Z",
     "shell.execute_reply.started": "2023-01-31T08:44:19.600842Z"
    },
    "id": "KjncMtxaJuwS",
    "outputId": "1f68a409-efb9-47ab-96c1-507666f9ae75"
   },
   "outputs": [
    {
     "name": "stdout",
     "output_type": "stream",
     "text": [
      "+--------------------+-----+--------------------+--------------------+----------+\n",
      "|            features|churn|       rawPrediction|         probability|prediction|\n",
      "+--------------------+-----+--------------------+--------------------+----------+\n",
      "|[22.0,11254.38,1....|  0.0|[4.52257618166588...|[0.98925568640428...|       0.0|\n",
      "|[25.0,9672.03,0.0...|  0.0|[4.66657435493585...|[0.99068318865547...|       0.0|\n",
      "|[26.0,8787.39,1.0...|  1.0|[0.68234512062331...|[0.66426190288573...|       0.0|\n",
      "|[26.0,8939.61,0.0...|  0.0|[6.28075600541315...|[0.99813151295094...|       0.0|\n",
      "|[27.0,8628.8,1.0,...|  0.0|[5.29578332832912...|[0.99501231543981...|       0.0|\n",
      "|[28.0,11128.95,1....|  0.0|[4.06607205818483...|[0.98314438338493...|       0.0|\n",
      "|[28.0,11204.23,0....|  0.0|[1.90124029245322...|[0.87003183786887...|       0.0|\n",
      "|[28.0,11245.38,0....|  0.0|[3.76975108403600...|[0.97746187753783...|       0.0|\n",
      "|[29.0,5900.78,1.0...|  0.0|[4.00073196490847...|[0.98202671395868...|       0.0|\n",
      "|[29.0,8688.17,1.0...|  1.0|[2.65539138632500...|[0.93434250916375...|       0.0|\n",
      "|[29.0,9378.24,0.0...|  0.0|[4.71783510411744...|[0.99114461851630...|       0.0|\n",
      "|[29.0,10203.18,1....|  0.0|[3.67922759312484...|[0.97537902922660...|       0.0|\n",
      "|[29.0,11274.46,1....|  0.0|[4.35525883164148...|[0.98732363730628...|       0.0|\n",
      "|[29.0,12711.15,0....|  0.0|[5.30430326092301...|[0.99505442039458...|       0.0|\n",
      "|[29.0,13240.01,1....|  0.0|[6.49581868075004...|[0.99849253716181...|       0.0|\n",
      "|[29.0,13255.05,1....|  0.0|[4.03038330544142...|[0.98254265542667...|       0.0|\n",
      "|[30.0,6744.87,0.0...|  0.0|[3.50780050289221...|[0.97090890410339...|       0.0|\n",
      "|[30.0,8403.78,1.0...|  0.0|[5.72423573627984...|[0.99674478275388...|       0.0|\n",
      "|[30.0,8677.28,1.0...|  0.0|[4.05961829281419...|[0.98303710063506...|       0.0|\n",
      "|[30.0,8874.83,0.0...|  0.0|[3.19724409525344...|[0.96073043581812...|       0.0|\n",
      "+--------------------+-----+--------------------+--------------------+----------+\n",
      "only showing top 20 rows\n",
      "\n"
     ]
    }
   ],
   "source": [
    "lrm.summary.predictions.show()"
   ]
  },
  {
   "cell_type": "code",
   "execution_count": 24,
   "metadata": {
    "execution": {
     "iopub.execute_input": "2023-01-31T08:44:19.890841Z",
     "iopub.status.busy": "2023-01-31T08:44:19.887866Z",
     "iopub.status.idle": "2023-01-31T08:44:20.400975Z",
     "shell.execute_reply": "2023-01-31T08:44:20.400028Z",
     "shell.execute_reply.started": "2023-01-31T08:44:19.890788Z"
    },
    "id": "XjUCQp1kJxzJ",
    "outputId": "68b40f41-8163-4acf-f2a8-9ce95cf1c292"
   },
   "outputs": [
    {
     "name": "stdout",
     "output_type": "stream",
     "text": [
      "+-------+------------------+-------------------+\n",
      "|summary|             churn|         prediction|\n",
      "+-------+------------------+-------------------+\n",
      "|  count|               724|                724|\n",
      "|   mean|0.1643646408839779|0.12154696132596685|\n",
      "| stddev|0.3708623417590445| 0.3269877343690762|\n",
      "|    min|               0.0|                0.0|\n",
      "|    max|               1.0|                1.0|\n",
      "+-------+------------------+-------------------+\n",
      "\n"
     ]
    }
   ],
   "source": [
    "lrm.summary.predictions.describe().show()"
   ]
  },
  {
   "cell_type": "code",
   "execution_count": 25,
   "metadata": {
    "execution": {
     "iopub.execute_input": "2023-01-31T08:44:20.402201Z",
     "iopub.status.busy": "2023-01-31T08:44:20.401888Z",
     "iopub.status.idle": "2023-01-31T08:44:20.409729Z",
     "shell.execute_reply": "2023-01-31T08:44:20.408211Z",
     "shell.execute_reply.started": "2023-01-31T08:44:20.402173Z"
    },
    "id": "JxcnLJprKAlV"
   },
   "outputs": [],
   "source": [
    "from pyspark.ml.evaluation import BinaryClassificationEvaluator"
   ]
  },
  {
   "cell_type": "code",
   "execution_count": 26,
   "metadata": {
    "execution": {
     "iopub.execute_input": "2023-01-31T08:44:20.412812Z",
     "iopub.status.busy": "2023-01-31T08:44:20.411425Z",
     "iopub.status.idle": "2023-01-31T08:44:20.763125Z",
     "shell.execute_reply": "2023-01-31T08:44:20.762231Z",
     "shell.execute_reply.started": "2023-01-31T08:44:20.412757Z"
    },
    "id": "_GkMfzO0KMVh"
   },
   "outputs": [],
   "source": [
    "pred_labels = lrm.evaluate(test)"
   ]
  },
  {
   "cell_type": "code",
   "execution_count": 27,
   "metadata": {
    "execution": {
     "iopub.execute_input": "2023-01-31T08:44:20.766639Z",
     "iopub.status.busy": "2023-01-31T08:44:20.766188Z",
     "iopub.status.idle": "2023-01-31T08:44:20.987011Z",
     "shell.execute_reply": "2023-01-31T08:44:20.985822Z",
     "shell.execute_reply.started": "2023-01-31T08:44:20.766604Z"
    },
    "id": "xk_Rdj0fKSxr",
    "outputId": "1f7aaa91-6615-4f06-d943-9973d98d82ce"
   },
   "outputs": [
    {
     "name": "stdout",
     "output_type": "stream",
     "text": [
      "+--------------------+-----+--------------------+--------------------+----------+\n",
      "|            features|churn|       rawPrediction|         probability|prediction|\n",
      "+--------------------+-----+--------------------+--------------------+----------+\n",
      "|[28.0,8670.98,0.0...|    0|[7.60382163750703...|[0.99950170588146...|       0.0|\n",
      "|[28.0,9090.43,1.0...|    0|[1.52847413391011...|[0.82178295209264...|       0.0|\n",
      "|[29.0,9617.59,0.0...|    0|[4.41641307056050...|[0.98806664902087...|       0.0|\n",
      "|[30.0,7960.64,1.0...|    1|[3.02076652378059...|[0.95350352079305...|       0.0|\n",
      "|[30.0,10183.98,1....|    0|[2.81851952338095...|[0.94366841842908...|       0.0|\n",
      "|[30.0,12788.37,0....|    0|[2.52555788533945...|[0.92591421321065...|       0.0|\n",
      "|[31.0,5304.6,0.0,...|    0|[3.42909968551911...|[0.96860169853297...|       0.0|\n",
      "|[31.0,7073.61,0.0...|    0|[3.12378420423470...|[0.95786322833749...|       0.0|\n",
      "|[31.0,9574.89,0.0...|    0|[3.33048590542651...|[0.96545997687205...|       0.0|\n",
      "|[31.0,10058.87,1....|    0|[4.33683941816427...|[0.98709102455352...|       0.0|\n",
      "|[32.0,12403.6,0.0...|    0|[5.51804035414744...|[0.99600233974958...|       0.0|\n",
      "|[33.0,8556.73,0.0...|    0|[3.72328157566154...|[0.97641511034062...|       0.0|\n",
      "|[34.0,7818.13,0.0...|    0|[3.85647487700859...|[0.97929534812057...|       0.0|\n",
      "|[34.0,8772.26,0.0...|    0|[2.83482514331574...|[0.94452895360180...|       0.0|\n",
      "|[34.0,9265.59,0.0...|    0|[3.97048475835574...|[0.98148498622278...|       0.0|\n",
      "|[34.0,9401.99,1.0...|    0|[0.98348621122070...|[0.72779940889934...|       0.0|\n",
      "|[34.0,9779.12,0.0...|    0|[2.73403849019490...|[0.93900554867630...|       0.0|\n",
      "|[34.0,9845.35,0.0...|    0|[5.59095500990855...|[0.99628240947116...|       0.0|\n",
      "|[34.0,9919.38,0.0...|    0|[4.63861396546774...|[0.99042154135167...|       0.0|\n",
      "|[34.0,12567.53,0....|    0|[1.62452437374043...|[0.83541815146329...|       0.0|\n",
      "+--------------------+-----+--------------------+--------------------+----------+\n",
      "only showing top 20 rows\n",
      "\n"
     ]
    }
   ],
   "source": [
    "pred_labels.predictions.show()"
   ]
  },
  {
   "cell_type": "code",
   "execution_count": 28,
   "metadata": {
    "execution": {
     "iopub.execute_input": "2023-01-31T08:44:20.989100Z",
     "iopub.status.busy": "2023-01-31T08:44:20.988661Z",
     "iopub.status.idle": "2023-01-31T08:44:21.004359Z",
     "shell.execute_reply": "2023-01-31T08:44:21.003484Z",
     "shell.execute_reply.started": "2023-01-31T08:44:20.989058Z"
    },
    "id": "jnj8xojJKV03"
   },
   "outputs": [],
   "source": [
    "eval = BinaryClassificationEvaluator(rawPredictionCol=\"prediction\" , labelCol='churn')"
   ]
  },
  {
   "cell_type": "code",
   "execution_count": 29,
   "metadata": {
    "execution": {
     "iopub.execute_input": "2023-01-31T08:44:21.007702Z",
     "iopub.status.busy": "2023-01-31T08:44:21.006027Z",
     "iopub.status.idle": "2023-01-31T08:44:21.442226Z",
     "shell.execute_reply": "2023-01-31T08:44:21.441006Z",
     "shell.execute_reply.started": "2023-01-31T08:44:21.007655Z"
    },
    "id": "0NTGzCtbK5gW"
   },
   "outputs": [],
   "source": [
    "auc = eval.evaluate(pred_labels.predictions)"
   ]
  },
  {
   "cell_type": "code",
   "execution_count": 30,
   "metadata": {
    "execution": {
     "iopub.execute_input": "2023-01-31T08:44:21.443872Z",
     "iopub.status.busy": "2023-01-31T08:44:21.443372Z",
     "iopub.status.idle": "2023-01-31T08:44:21.460239Z",
     "shell.execute_reply": "2023-01-31T08:44:21.456073Z",
     "shell.execute_reply.started": "2023-01-31T08:44:21.443828Z"
    },
    "id": "sGB3i1UtLEuG",
    "outputId": "d82af15f-67bc-4c06-b306-82df0f4f3364"
   },
   "outputs": [
    {
     "data": {
      "text/plain": [
       "0.7926585094549498"
      ]
     },
     "execution_count": 30,
     "metadata": {},
     "output_type": "execute_result"
    }
   ],
   "source": [
    "auc"
   ]
  },
  {
   "cell_type": "code",
   "execution_count": null,
   "metadata": {},
   "outputs": [],
   "source": []
  },
  {
   "cell_type": "code",
   "execution_count": null,
   "metadata": {},
   "outputs": [],
   "source": []
  }
 ],
 "metadata": {
  "kernelspec": {
   "display_name": "Python 3 (ipykernel)",
   "language": "python",
   "name": "python3"
  },
  "language_info": {
   "codemirror_mode": {
    "name": "ipython",
    "version": 3
   },
   "file_extension": ".py",
   "mimetype": "text/x-python",
   "name": "python",
   "nbconvert_exporter": "python",
   "pygments_lexer": "ipython3",
   "version": "3.11.7"
  }
 },
 "nbformat": 4,
 "nbformat_minor": 4
}
